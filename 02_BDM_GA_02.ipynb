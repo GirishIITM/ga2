{
  "cells": [
    {
      "cell_type": "code",
      "execution_count": 1,
      "metadata": {
        "id": "bs6BU8janD_n"
      },
      "outputs": [],
      "source": [
        "import pandas as pd"
      ]
    },
    {
      "cell_type": "code",
      "execution_count": 2,
      "metadata": {
        "id": "yuuA-fubnWmV"
      },
      "outputs": [],
      "source": [
        "excel_dataset    = \"data.xlsx\"\n",
        "pd_excel_dataset = pd.ExcelFile(\"data.xlsx\", engine=\"openpyxl\")\n"
      ]
    },
    {
      "cell_type": "code",
      "execution_count": 3,
      "metadata": {
        "colab": {
          "base_uri": "https://localhost:8080/"
        },
        "id": "mbmUldK7rsW1",
        "outputId": "8a709f6b-8645-4ece-fc65-1caadcf47619"
      },
      "outputs": [
        {
          "data": {
            "text/plain": [
              "['SKU MASTER', 'Sales', 'Opening Stock', 'STOCK TRANSFER']"
            ]
          },
          "execution_count": 3,
          "metadata": {},
          "output_type": "execute_result"
        }
      ],
      "source": [
        "pd_excel_dataset.sheet_names"
      ]
    },
    {
      "cell_type": "code",
      "execution_count": 4,
      "metadata": {
        "id": "cIUCYS-Wr3hq"
      },
      "outputs": [],
      "source": [
        "skumaster     = pd.read_excel(pd_excel_dataset, sheet_name = 'SKU MASTER')\n",
        "sales         = pd.read_excel(pd_excel_dataset, sheet_name = \"Sales\")\n",
        "openingstock  = pd.read_excel(pd_excel_dataset, sheet_name = \"Opening Stock\")\n",
        "stocktransfer = pd.read_excel(pd_excel_dataset, sheet_name = \"STOCK TRANSFER\")"
      ]
    },
    {
      "cell_type": "markdown",
      "metadata": {
        "id": "PvthPCyFnRcO"
      },
      "source": [
        "## Question 1\n",
        "For the entire month, what is the total sale value of the game “LTA Wise City”?"
      ]
    },
    {
      "cell_type": "code",
      "execution_count": 5,
      "metadata": {
        "colab": {
          "base_uri": "https://localhost:8080/"
        },
        "id": "NlnLN9a0rcDc",
        "outputId": "50fe991b-ad58-4185-8051-db88b87ce206"
      },
      "outputs": [
        {
          "name": "stdout",
          "output_type": "stream",
          "text": [
            "V004 3000 5230 15690000\n",
            "Question 1 Answer: For the entire month, the total sale value of the game “LTA Wise City” is  15690000\n"
          ]
        }
      ],
      "source": [
        "sku          = skumaster[skumaster[\"Description\"]==\"LTA Wise City\"]\n",
        "sku_code     = sku.iloc[0][\"SKU\"]\n",
        "sku_price    = sku.iloc[0][\"Price\"]\n",
        "sku_quantity = sales[sales[\"SKU\"] == sku_code ][\"Sales\"].sum()\n",
        "print(sku_code, sku_price, sku_quantity, sku_price * sku_quantity)\n",
        "print(\"Question 1 Answer: For the entire month, the total sale value of the game “LTA Wise City” is \", sku_price* sku_quantity)"
      ]
    },
    {
      "cell_type": "markdown",
      "metadata": {
        "id": "lhFfoBLhpHi8"
      },
      "source": [
        "## Question 2\n",
        "What fraction of total sale quantity (Volume) did “Books” category achieve in the first week? (Jan 1 to Jan 7, both days included) (Float Between 0 to 1)"
      ]
    },
    {
      "cell_type": "code",
      "execution_count": 6,
      "metadata": {
        "colab": {
          "base_uri": "https://localhost:8080/"
        },
        "id": "lz_zHQoYpJ57",
        "outputId": "a7aa9c65-790d-42e4-9103-c4dbed33318b"
      },
      "outputs": [
        {
          "name": "stdout",
          "output_type": "stream",
          "text": [
            "Question 2 Answer: Books sales volume fraction (Jan 1 to Jan 7): 0.0977\n"
          ]
        }
      ],
      "source": [
        "sales[\"Date\"]     = pd.to_datetime(sales[\"Date\"])\n",
        "start_date        = pd.Timestamp(\"2025-01-01\")\n",
        "end_date          = pd.Timestamp(\"2025-01-07\")\n",
        "first_week_sales  = sales[(sales[\"Date\"] >= start_date) & (sales[\"Date\"] <= end_date)]\n",
        "book_skus         = skumaster[skumaster[\"Category\"] == \"Books\"][\"SKU\"].unique()\n",
        "books_sales       = first_week_sales[first_week_sales[\"SKU\"].isin(book_skus)]\n",
        "total_volume      = first_week_sales[\"Sales\"].sum()\n",
        "books_volume      = books_sales[\"Sales\"].sum()\n",
        "fraction          = books_volume / total_volume if total_volume != 0 else 0.0\n",
        "print(f\"Question 2 Answer: Books sales volume fraction (Jan 1 to Jan 7): {fraction:.4f}\")"
      ]
    },
    {
      "cell_type": "markdown",
      "metadata": {
        "id": "OEqnz2Gc1d5m"
      },
      "source": [
        "## Question 3\n",
        "What is the maximum sale value by a single SKU in a day across all days?\n",
        "(Sale Value = Sale Qty * Price per Qty)  (INTEGER)\n"
      ]
    },
    {
      "cell_type": "code",
      "execution_count": 7,
      "metadata": {
        "colab": {
          "base_uri": "https://localhost:8080/",
          "height": 206
        },
        "id": "x2edhyV31bQg",
        "outputId": "2c6d573d-6711-4d26-ffcc-f8f6a1844913"
      },
      "outputs": [
        {
          "data": {
            "text/html": [
              "<div>\n",
              "<style scoped>\n",
              "    .dataframe tbody tr th:only-of-type {\n",
              "        vertical-align: middle;\n",
              "    }\n",
              "\n",
              "    .dataframe tbody tr th {\n",
              "        vertical-align: top;\n",
              "    }\n",
              "\n",
              "    .dataframe thead th {\n",
              "        text-align: right;\n",
              "    }\n",
              "</style>\n",
              "<table border=\"1\" class=\"dataframe\">\n",
              "  <thead>\n",
              "    <tr style=\"text-align: right;\">\n",
              "      <th></th>\n",
              "      <th>Date</th>\n",
              "      <th>SKU</th>\n",
              "      <th>Product Name</th>\n",
              "      <th>City</th>\n",
              "      <th>Sales</th>\n",
              "      <th>Description</th>\n",
              "      <th>Category</th>\n",
              "      <th>Price</th>\n",
              "      <th>Total Sale Value</th>\n",
              "    </tr>\n",
              "  </thead>\n",
              "  <tbody>\n",
              "    <tr>\n",
              "      <th>0</th>\n",
              "      <td>2025-01-01</td>\n",
              "      <td>F001</td>\n",
              "      <td>Prateek England</td>\n",
              "      <td>Mumbai</td>\n",
              "      <td>23</td>\n",
              "      <td>Prateek England</td>\n",
              "      <td>Fashion</td>\n",
              "      <td>1104</td>\n",
              "      <td>25392</td>\n",
              "    </tr>\n",
              "    <tr>\n",
              "      <th>1</th>\n",
              "      <td>2025-01-01</td>\n",
              "      <td>F002</td>\n",
              "      <td>Lucy Phillepe</td>\n",
              "      <td>Mumbai</td>\n",
              "      <td>75</td>\n",
              "      <td>Lucy Phillepe</td>\n",
              "      <td>Fashion</td>\n",
              "      <td>2485</td>\n",
              "      <td>186375</td>\n",
              "    </tr>\n",
              "    <tr>\n",
              "      <th>2</th>\n",
              "      <td>2025-01-01</td>\n",
              "      <td>F003</td>\n",
              "      <td>Badlands</td>\n",
              "      <td>Mumbai</td>\n",
              "      <td>33</td>\n",
              "      <td>Badlands</td>\n",
              "      <td>Fashion</td>\n",
              "      <td>1425</td>\n",
              "      <td>47025</td>\n",
              "    </tr>\n",
              "    <tr>\n",
              "      <th>3</th>\n",
              "      <td>2025-01-01</td>\n",
              "      <td>F004</td>\n",
              "      <td>Allen Dolly</td>\n",
              "      <td>Mumbai</td>\n",
              "      <td>3</td>\n",
              "      <td>Allen Dolly</td>\n",
              "      <td>Fashion</td>\n",
              "      <td>2640</td>\n",
              "      <td>7920</td>\n",
              "    </tr>\n",
              "    <tr>\n",
              "      <th>4</th>\n",
              "      <td>2025-01-01</td>\n",
              "      <td>F005</td>\n",
              "      <td>Bucchi</td>\n",
              "      <td>Mumbai</td>\n",
              "      <td>3</td>\n",
              "      <td>Bucchi</td>\n",
              "      <td>Fashion</td>\n",
              "      <td>11299</td>\n",
              "      <td>33897</td>\n",
              "    </tr>\n",
              "  </tbody>\n",
              "</table>\n",
              "</div>"
            ],
            "text/plain": [
              "        Date   SKU     Product Name    City  Sales      Description  Category  \\\n",
              "0 2025-01-01  F001  Prateek England  Mumbai     23  Prateek England  Fashion    \n",
              "1 2025-01-01  F002    Lucy Phillepe  Mumbai     75    Lucy Phillepe  Fashion    \n",
              "2 2025-01-01  F003         Badlands  Mumbai     33         Badlands  Fashion    \n",
              "3 2025-01-01  F004      Allen Dolly  Mumbai      3      Allen Dolly  Fashion    \n",
              "4 2025-01-01  F005           Bucchi  Mumbai      3           Bucchi  Fashion    \n",
              "\n",
              "   Price  Total Sale Value  \n",
              "0   1104             25392  \n",
              "1   2485            186375  \n",
              "2   1425             47025  \n",
              "3   2640              7920  \n",
              "4  11299             33897  "
            ]
          },
          "execution_count": 7,
          "metadata": {},
          "output_type": "execute_result"
        }
      ],
      "source": [
        "#merged_skumaster_sales                      = pd.merge(skumaster, sales, how=\"inner\", on=\"SKU\")\n",
        "merged_skumaster_sales                       = pd.merge(sales, skumaster, how=\"left\", on=\"SKU\")\n",
        "merged_skumaster_sales[\"Total Sale Value\"]   = merged_skumaster_sales[\"Price\"] * merged_skumaster_sales[\"Sales\"]\n",
        "merged_skumaster_sales.head(5)"
      ]
    },
    {
      "cell_type": "code",
      "execution_count": 8,
      "metadata": {
        "colab": {
          "base_uri": "https://localhost:8080/"
        },
        "id": "HFFnmMid1Nc6",
        "outputId": "c064ffdc-ed12-4240-976e-450952b52a5e"
      },
      "outputs": [
        {
          "name": "stdout",
          "output_type": "stream",
          "text": [
            "Empty DataFrame\n",
            "Columns: [Date, SKU, Product Name, City, Sales, Description, Category, Price, Total Sale Value]\n",
            "Index: []\n",
            "[]\n"
          ]
        }
      ],
      "source": [
        "missing_skus = merged_skumaster_sales[merged_skumaster_sales[\"Description\"].isna()]\n",
        "print(missing_skus)\n",
        "print(missing_skus[\"SKU\"].unique())"
      ]
    },
    {
      "cell_type": "code",
      "execution_count": 9,
      "metadata": {
        "colab": {
          "base_uri": "https://localhost:8080/",
          "height": 206
        },
        "id": "xykdJ-aVx-FN",
        "outputId": "f295dcf1-2013-4c06-af9a-7552c916ab3a"
      },
      "outputs": [
        {
          "data": {
            "text/html": [
              "<div>\n",
              "<style scoped>\n",
              "    .dataframe tbody tr th:only-of-type {\n",
              "        vertical-align: middle;\n",
              "    }\n",
              "\n",
              "    .dataframe tbody tr th {\n",
              "        vertical-align: top;\n",
              "    }\n",
              "\n",
              "    .dataframe thead th {\n",
              "        text-align: right;\n",
              "    }\n",
              "</style>\n",
              "<table border=\"1\" class=\"dataframe\">\n",
              "  <thead>\n",
              "    <tr style=\"text-align: right;\">\n",
              "      <th></th>\n",
              "      <th>SKU</th>\n",
              "      <th>Description</th>\n",
              "      <th>Date</th>\n",
              "      <th>Total Sale Value</th>\n",
              "    </tr>\n",
              "  </thead>\n",
              "  <tbody>\n",
              "    <tr>\n",
              "      <th>0</th>\n",
              "      <td>B001</td>\n",
              "      <td>Harry putar</td>\n",
              "      <td>2025-01-01</td>\n",
              "      <td>430650</td>\n",
              "    </tr>\n",
              "    <tr>\n",
              "      <th>1</th>\n",
              "      <td>B001</td>\n",
              "      <td>Harry putar</td>\n",
              "      <td>2025-01-02</td>\n",
              "      <td>93960</td>\n",
              "    </tr>\n",
              "    <tr>\n",
              "      <th>2</th>\n",
              "      <td>B001</td>\n",
              "      <td>Harry putar</td>\n",
              "      <td>2025-01-03</td>\n",
              "      <td>469800</td>\n",
              "    </tr>\n",
              "    <tr>\n",
              "      <th>3</th>\n",
              "      <td>B001</td>\n",
              "      <td>Harry putar</td>\n",
              "      <td>2025-01-04</td>\n",
              "      <td>394110</td>\n",
              "    </tr>\n",
              "    <tr>\n",
              "      <th>4</th>\n",
              "      <td>B001</td>\n",
              "      <td>Harry putar</td>\n",
              "      <td>2025-01-05</td>\n",
              "      <td>435870</td>\n",
              "    </tr>\n",
              "  </tbody>\n",
              "</table>\n",
              "</div>"
            ],
            "text/plain": [
              "    SKU   Description       Date  Total Sale Value\n",
              "0  B001  Harry putar  2025-01-01            430650\n",
              "1  B001  Harry putar  2025-01-02             93960\n",
              "2  B001  Harry putar  2025-01-03            469800\n",
              "3  B001  Harry putar  2025-01-04            394110\n",
              "4  B001  Harry putar  2025-01-05            435870"
            ]
          },
          "execution_count": 9,
          "metadata": {},
          "output_type": "execute_result"
        }
      ],
      "source": [
        "daily_sales                                 = ( merged_skumaster_sales.groupby([\"SKU\",\"Description\",\"Date\"])[\"Total Sale Value\"].sum().reset_index())\n",
        "daily_sales.head(5)"
      ]
    },
    {
      "cell_type": "code",
      "execution_count": null,
      "metadata": {
        "id": "V9ZRc7zCGmXa"
      },
      "outputs": [],
      "source": []
    },
    {
      "cell_type": "code",
      "execution_count": 10,
      "metadata": {
        "colab": {
          "base_uri": "https://localhost:8080/",
          "height": 206
        },
        "id": "i69QTDnmzTXz",
        "outputId": "8e62402f-af48-440c-9147-f153e28b9e24"
      },
      "outputs": [
        {
          "data": {
            "text/html": [
              "<div>\n",
              "<style scoped>\n",
              "    .dataframe tbody tr th:only-of-type {\n",
              "        vertical-align: middle;\n",
              "    }\n",
              "\n",
              "    .dataframe tbody tr th {\n",
              "        vertical-align: top;\n",
              "    }\n",
              "\n",
              "    .dataframe thead th {\n",
              "        text-align: right;\n",
              "    }\n",
              "</style>\n",
              "<table border=\"1\" class=\"dataframe\">\n",
              "  <thead>\n",
              "    <tr style=\"text-align: right;\">\n",
              "      <th></th>\n",
              "      <th>SKU</th>\n",
              "      <th>Description</th>\n",
              "      <th>Date</th>\n",
              "      <th>Total Sale Value</th>\n",
              "    </tr>\n",
              "  </thead>\n",
              "  <tbody>\n",
              "    <tr>\n",
              "      <th>871</th>\n",
              "      <td>M004</td>\n",
              "      <td>Hotorola</td>\n",
              "      <td>2025-01-04</td>\n",
              "      <td>6215000</td>\n",
              "    </tr>\n",
              "    <tr>\n",
              "      <th>873</th>\n",
              "      <td>M004</td>\n",
              "      <td>Hotorola</td>\n",
              "      <td>2025-01-06</td>\n",
              "      <td>5225000</td>\n",
              "    </tr>\n",
              "    <tr>\n",
              "      <th>876</th>\n",
              "      <td>M004</td>\n",
              "      <td>Hotorola</td>\n",
              "      <td>2025-01-09</td>\n",
              "      <td>5225000</td>\n",
              "    </tr>\n",
              "    <tr>\n",
              "      <th>869</th>\n",
              "      <td>M004</td>\n",
              "      <td>Hotorola</td>\n",
              "      <td>2025-01-02</td>\n",
              "      <td>5005000</td>\n",
              "    </tr>\n",
              "    <tr>\n",
              "      <th>778</th>\n",
              "      <td>M001</td>\n",
              "      <td>Jhaomi</td>\n",
              "      <td>2025-01-04</td>\n",
              "      <td>4924800</td>\n",
              "    </tr>\n",
              "  </tbody>\n",
              "</table>\n",
              "</div>"
            ],
            "text/plain": [
              "      SKU Description       Date  Total Sale Value\n",
              "871  M004    Hotorola 2025-01-04           6215000\n",
              "873  M004    Hotorola 2025-01-06           5225000\n",
              "876  M004    Hotorola 2025-01-09           5225000\n",
              "869  M004    Hotorola 2025-01-02           5005000\n",
              "778  M001      Jhaomi 2025-01-04           4924800"
            ]
          },
          "execution_count": 10,
          "metadata": {},
          "output_type": "execute_result"
        }
      ],
      "source": [
        "daily_sales_sorted                                = ( merged_skumaster_sales.groupby([\"SKU\",\"Description\",\"Date\"])[\"Total Sale Value\"].sum().reset_index().sort_values(by=\"Total Sale Value\", ascending=False))\n",
        "daily_sales_sorted.head(5)"
      ]
    },
    {
      "cell_type": "code",
      "execution_count": 11,
      "metadata": {
        "colab": {
          "base_uri": "https://localhost:8080/"
        },
        "id": "PBlN69vay8GL",
        "outputId": "f5258820-1e3d-46d3-f54d-22295e87d7b6"
      },
      "outputs": [
        {
          "name": "stdout",
          "output_type": "stream",
          "text": [
            "      SKU Description       Date  Total Sale Value\n",
            "871  M004    Hotorola 2025-01-04           6215000\n",
            "873  M004    Hotorola 2025-01-06           5225000\n",
            "876  M004    Hotorola 2025-01-09           5225000\n",
            "869  M004    Hotorola 2025-01-02           5005000\n",
            "778  M001      Jhaomi 2025-01-04           4924800\n"
          ]
        }
      ],
      "source": [
        "top_daily_sales                             = daily_sales.sort_values(by=\"Total Sale Value\", ascending=False)\n",
        "print(top_daily_sales.head(5))"
      ]
    },
    {
      "cell_type": "code",
      "execution_count": 12,
      "metadata": {
        "colab": {
          "base_uri": "https://localhost:8080/"
        },
        "id": "vwSN4safzyQK",
        "outputId": "6f304f42-5a45-4ad2-bcea-9477f52f274b"
      },
      "outputs": [
        {
          "name": "stdout",
          "output_type": "stream",
          "text": [
            "SKU                                M004\n",
            "Description                    Hotorola\n",
            "Date                2025-01-04 00:00:00\n",
            "Total Sale Value                6215000\n",
            "Name: 871, dtype: object\n"
          ]
        }
      ],
      "source": [
        "max_row                                     = daily_sales.loc[daily_sales[\"Total Sale Value\"].idxmax()]\n",
        "print(max_row)"
      ]
    },
    {
      "cell_type": "code",
      "execution_count": 13,
      "metadata": {
        "id": "Y_rFhuxf0Fs3"
      },
      "outputs": [],
      "source": [
        "sku_code                                    = max_row[\"SKU\"]\n",
        "sku_name                                    = max_row[\"Description\"]\n",
        "sale_date                                   = max_row[\"Date\"].date()  # just the date part\n",
        "max_value                                   = int(max_row[\"Total Sale Value\"])"
      ]
    },
    {
      "cell_type": "code",
      "execution_count": 14,
      "metadata": {
        "colab": {
          "base_uri": "https://localhost:8080/"
        },
        "id": "w89Hlq-ByNF1",
        "outputId": "3a4f08af-581f-402f-d497-e9a68cdfe822"
      },
      "outputs": [
        {
          "name": "stdout",
          "output_type": "stream",
          "text": [
            "Highest single-day sale value:\n",
            "SKU: M004\n",
            "Name: Hotorola\n",
            "Date: 2025-01-04\n",
            "Sale Value: ₹6215000\n",
            "Question 3 Answer: Maximum daily sale value by a single SKU: ₹6215000\n"
          ]
        }
      ],
      "source": [
        "print(f\"Highest single-day sale value:\")\n",
        "print(f\"SKU: {sku_code}\")\n",
        "print(f\"Name: {sku_name}\")\n",
        "print(f\"Date: {sale_date}\")\n",
        "print(f\"Sale Value: ₹{max_value}\")\n",
        "print(f\"Question 3 Answer: Maximum daily sale value by a single SKU: ₹{max_value}\")"
      ]
    },
    {
      "cell_type": "markdown",
      "metadata": {
        "id": "liDivc3q3vzw"
      },
      "source": [
        "## Question 4\n",
        "What is the maximum revenue generating category across all days? (STRING)"
      ]
    },
    {
      "cell_type": "code",
      "execution_count": 15,
      "metadata": {
        "colab": {
          "base_uri": "https://localhost:8080/",
          "height": 206
        },
        "id": "rfP3BJz62XOp",
        "outputId": "5c85d496-db03-439a-b0e9-376f85840be7"
      },
      "outputs": [
        {
          "data": {
            "text/html": [
              "<div>\n",
              "<style scoped>\n",
              "    .dataframe tbody tr th:only-of-type {\n",
              "        vertical-align: middle;\n",
              "    }\n",
              "\n",
              "    .dataframe tbody tr th {\n",
              "        vertical-align: top;\n",
              "    }\n",
              "\n",
              "    .dataframe thead th {\n",
              "        text-align: right;\n",
              "    }\n",
              "</style>\n",
              "<table border=\"1\" class=\"dataframe\">\n",
              "  <thead>\n",
              "    <tr style=\"text-align: right;\">\n",
              "      <th></th>\n",
              "      <th>Date</th>\n",
              "      <th>SKU</th>\n",
              "      <th>Product Name</th>\n",
              "      <th>City</th>\n",
              "      <th>Sales</th>\n",
              "      <th>Description</th>\n",
              "      <th>Category</th>\n",
              "      <th>Price</th>\n",
              "      <th>Total Sale Value</th>\n",
              "    </tr>\n",
              "  </thead>\n",
              "  <tbody>\n",
              "    <tr>\n",
              "      <th>0</th>\n",
              "      <td>2025-01-01</td>\n",
              "      <td>F001</td>\n",
              "      <td>Prateek England</td>\n",
              "      <td>Mumbai</td>\n",
              "      <td>23</td>\n",
              "      <td>Prateek England</td>\n",
              "      <td>Fashion</td>\n",
              "      <td>1104</td>\n",
              "      <td>25392</td>\n",
              "    </tr>\n",
              "    <tr>\n",
              "      <th>1</th>\n",
              "      <td>2025-01-01</td>\n",
              "      <td>F002</td>\n",
              "      <td>Lucy Phillepe</td>\n",
              "      <td>Mumbai</td>\n",
              "      <td>75</td>\n",
              "      <td>Lucy Phillepe</td>\n",
              "      <td>Fashion</td>\n",
              "      <td>2485</td>\n",
              "      <td>186375</td>\n",
              "    </tr>\n",
              "    <tr>\n",
              "      <th>2</th>\n",
              "      <td>2025-01-01</td>\n",
              "      <td>F003</td>\n",
              "      <td>Badlands</td>\n",
              "      <td>Mumbai</td>\n",
              "      <td>33</td>\n",
              "      <td>Badlands</td>\n",
              "      <td>Fashion</td>\n",
              "      <td>1425</td>\n",
              "      <td>47025</td>\n",
              "    </tr>\n",
              "    <tr>\n",
              "      <th>3</th>\n",
              "      <td>2025-01-01</td>\n",
              "      <td>F004</td>\n",
              "      <td>Allen Dolly</td>\n",
              "      <td>Mumbai</td>\n",
              "      <td>3</td>\n",
              "      <td>Allen Dolly</td>\n",
              "      <td>Fashion</td>\n",
              "      <td>2640</td>\n",
              "      <td>7920</td>\n",
              "    </tr>\n",
              "    <tr>\n",
              "      <th>4</th>\n",
              "      <td>2025-01-01</td>\n",
              "      <td>F005</td>\n",
              "      <td>Bucchi</td>\n",
              "      <td>Mumbai</td>\n",
              "      <td>3</td>\n",
              "      <td>Bucchi</td>\n",
              "      <td>Fashion</td>\n",
              "      <td>11299</td>\n",
              "      <td>33897</td>\n",
              "    </tr>\n",
              "  </tbody>\n",
              "</table>\n",
              "</div>"
            ],
            "text/plain": [
              "        Date   SKU     Product Name    City  Sales      Description  Category  \\\n",
              "0 2025-01-01  F001  Prateek England  Mumbai     23  Prateek England  Fashion    \n",
              "1 2025-01-01  F002    Lucy Phillepe  Mumbai     75    Lucy Phillepe  Fashion    \n",
              "2 2025-01-01  F003         Badlands  Mumbai     33         Badlands  Fashion    \n",
              "3 2025-01-01  F004      Allen Dolly  Mumbai      3      Allen Dolly  Fashion    \n",
              "4 2025-01-01  F005           Bucchi  Mumbai      3           Bucchi  Fashion    \n",
              "\n",
              "   Price  Total Sale Value  \n",
              "0   1104             25392  \n",
              "1   2485            186375  \n",
              "2   1425             47025  \n",
              "3   2640              7920  \n",
              "4  11299             33897  "
            ]
          },
          "execution_count": 15,
          "metadata": {},
          "output_type": "execute_result"
        }
      ],
      "source": [
        "#merged_skumaster_sales                      = pd.merge(skumaster, sales, how=\"inner\", on=\"SKU\")\n",
        "merged_skumaster_sales                       = pd.merge(sales, skumaster, how=\"left\", on=\"SKU\")\n",
        "merged_skumaster_sales[\"Total Sale Value\"]   = merged_skumaster_sales[\"Price\"] * merged_skumaster_sales[\"Sales\"]\n",
        "merged_skumaster_sales.head(5)"
      ]
    },
    {
      "cell_type": "code",
      "execution_count": 16,
      "metadata": {
        "colab": {
          "base_uri": "https://localhost:8080/"
        },
        "id": "dLpfPGel3zHB",
        "outputId": "f15b85a3-89c6-46ca-fe8f-850d50fcf7ce"
      },
      "outputs": [
        {
          "name": "stdout",
          "output_type": "stream",
          "text": [
            "['Fashion ' 'Mobiles' 'Books' 'Video Games ' 'Sports / Fitness'\n",
            " 'Medicines/Healthcare' 'Kitchen ' 'Household  ' 'Pet Supplies' 'Gifting']\n",
            "[np.int64(77176599), np.int64(282295460), np.int64(20206136), np.int64(38954906), np.int64(66999950), np.int64(32812708), np.int64(51719318), np.int64(23792516), np.int64(62901594), np.int64(83797316)]\n"
          ]
        }
      ],
      "source": [
        "categories_unique = merged_skumaster_sales.Category.unique()\n",
        "print(categories_unique)\n",
        "total_revenue = [ merged_skumaster_sales[merged_skumaster_sales[\"Category\"] == cat][\"Total Sale Value\"].sum() for cat in categories_unique]\n",
        "print(total_revenue)"
      ]
    },
    {
      "cell_type": "code",
      "execution_count": 17,
      "metadata": {
        "colab": {
          "base_uri": "https://localhost:8080/",
          "height": 363
        },
        "id": "8B15RA883Akv",
        "outputId": "1218b71b-a0ee-4ded-c6fc-a7be0c55000b"
      },
      "outputs": [
        {
          "data": {
            "text/html": [
              "<div>\n",
              "<style scoped>\n",
              "    .dataframe tbody tr th:only-of-type {\n",
              "        vertical-align: middle;\n",
              "    }\n",
              "\n",
              "    .dataframe tbody tr th {\n",
              "        vertical-align: top;\n",
              "    }\n",
              "\n",
              "    .dataframe thead th {\n",
              "        text-align: right;\n",
              "    }\n",
              "</style>\n",
              "<table border=\"1\" class=\"dataframe\">\n",
              "  <thead>\n",
              "    <tr style=\"text-align: right;\">\n",
              "      <th></th>\n",
              "      <th>Category</th>\n",
              "      <th>Total Revenue</th>\n",
              "    </tr>\n",
              "  </thead>\n",
              "  <tbody>\n",
              "    <tr>\n",
              "      <th>0</th>\n",
              "      <td>Fashion</td>\n",
              "      <td>77176599</td>\n",
              "    </tr>\n",
              "    <tr>\n",
              "      <th>1</th>\n",
              "      <td>Mobiles</td>\n",
              "      <td>282295460</td>\n",
              "    </tr>\n",
              "    <tr>\n",
              "      <th>2</th>\n",
              "      <td>Books</td>\n",
              "      <td>20206136</td>\n",
              "    </tr>\n",
              "    <tr>\n",
              "      <th>3</th>\n",
              "      <td>Video Games</td>\n",
              "      <td>38954906</td>\n",
              "    </tr>\n",
              "    <tr>\n",
              "      <th>4</th>\n",
              "      <td>Sports / Fitness</td>\n",
              "      <td>66999950</td>\n",
              "    </tr>\n",
              "    <tr>\n",
              "      <th>5</th>\n",
              "      <td>Medicines/Healthcare</td>\n",
              "      <td>32812708</td>\n",
              "    </tr>\n",
              "    <tr>\n",
              "      <th>6</th>\n",
              "      <td>Kitchen</td>\n",
              "      <td>51719318</td>\n",
              "    </tr>\n",
              "    <tr>\n",
              "      <th>7</th>\n",
              "      <td>Household</td>\n",
              "      <td>23792516</td>\n",
              "    </tr>\n",
              "    <tr>\n",
              "      <th>8</th>\n",
              "      <td>Pet Supplies</td>\n",
              "      <td>62901594</td>\n",
              "    </tr>\n",
              "    <tr>\n",
              "      <th>9</th>\n",
              "      <td>Gifting</td>\n",
              "      <td>83797316</td>\n",
              "    </tr>\n",
              "  </tbody>\n",
              "</table>\n",
              "</div>"
            ],
            "text/plain": [
              "               Category  Total Revenue\n",
              "0              Fashion        77176599\n",
              "1               Mobiles      282295460\n",
              "2                 Books       20206136\n",
              "3          Video Games        38954906\n",
              "4      Sports / Fitness       66999950\n",
              "5  Medicines/Healthcare       32812708\n",
              "6              Kitchen        51719318\n",
              "7           Household         23792516\n",
              "8          Pet Supplies       62901594\n",
              "9               Gifting       83797316"
            ]
          },
          "execution_count": 17,
          "metadata": {},
          "output_type": "execute_result"
        }
      ],
      "source": [
        "cat_revenue = pd.DataFrame({\"Category\" : categories_unique, \"Total Revenue\" : total_revenue})\n",
        "cat_revenue.head(len(cat_revenue))"
      ]
    },
    {
      "cell_type": "code",
      "execution_count": 18,
      "metadata": {
        "colab": {
          "base_uri": "https://localhost:8080/"
        },
        "id": "yvNx50km4HrX",
        "outputId": "445ba843-5b1d-40cd-d1f1-1920563e7036"
      },
      "outputs": [
        {
          "name": "stdout",
          "output_type": "stream",
          "text": [
            "               Category  Total Revenue\n",
            "1               Mobiles      282295460\n",
            "9               Gifting       83797316\n",
            "0              Fashion        77176599\n",
            "4      Sports / Fitness       66999950\n",
            "8          Pet Supplies       62901594\n",
            "6              Kitchen        51719318\n",
            "3          Video Games        38954906\n",
            "5  Medicines/Healthcare       32812708\n",
            "7           Household         23792516\n",
            "2                 Books       20206136\n"
          ]
        }
      ],
      "source": [
        "sorted_cat_revenue = cat_revenue.sort_values(by=\"Total Revenue\", ascending=False)\n",
        "print(sorted_cat_revenue)"
      ]
    },
    {
      "cell_type": "code",
      "execution_count": 19,
      "metadata": {
        "colab": {
          "base_uri": "https://localhost:8080/",
          "height": 115
        },
        "id": "SbpVrjxD5Ra2",
        "outputId": "88400d80-1587-40c8-b713-8c0d849b106f"
      },
      "outputs": [
        {
          "data": {
            "text/plain": [
              "1    Mobiles\n",
              "Name: Category, dtype: object"
            ]
          },
          "execution_count": 19,
          "metadata": {},
          "output_type": "execute_result"
        }
      ],
      "source": [
        "max_category = cat_revenue[\"Total Revenue\"].sort_values(ascending=False).iloc[0]\n",
        "cat_revenue[cat_revenue[\"Total Revenue\"] == max_category][\"Category\"]"
      ]
    },
    {
      "cell_type": "code",
      "execution_count": 20,
      "metadata": {
        "colab": {
          "base_uri": "https://localhost:8080/"
        },
        "id": "Q34peoXF5Exx",
        "outputId": "09e28663-be23-4ff2-80de-21aa6c4b41de"
      },
      "outputs": [
        {
          "name": "stdout",
          "output_type": "stream",
          "text": [
            "Question 4 Asnwer: Top Revenue-Generating Category: Mobiles\n"
          ]
        }
      ],
      "source": [
        "max_category = cat_revenue.sort_values(by=\"Total Revenue\", ascending=False).iloc[0][\"Category\"]\n",
        "print(\"Question 4 Asnwer: Top Revenue-Generating Category:\", max_category)"
      ]
    },
    {
      "cell_type": "markdown",
      "metadata": {
        "id": "hdvK5Bl38l33"
      },
      "source": [
        "## Question 5\n",
        "What fraction of total sale value did Mumbai achieve? (across all categories and days) (FLOAT between 0 and 1)"
      ]
    },
    {
      "cell_type": "code",
      "execution_count": 21,
      "metadata": {
        "colab": {
          "base_uri": "https://localhost:8080/",
          "height": 206
        },
        "id": "kP4-5tlu8fOh",
        "outputId": "46112931-70bf-4d62-9fbf-67c3540601da"
      },
      "outputs": [
        {
          "data": {
            "text/html": [
              "<div>\n",
              "<style scoped>\n",
              "    .dataframe tbody tr th:only-of-type {\n",
              "        vertical-align: middle;\n",
              "    }\n",
              "\n",
              "    .dataframe tbody tr th {\n",
              "        vertical-align: top;\n",
              "    }\n",
              "\n",
              "    .dataframe thead th {\n",
              "        text-align: right;\n",
              "    }\n",
              "</style>\n",
              "<table border=\"1\" class=\"dataframe\">\n",
              "  <thead>\n",
              "    <tr style=\"text-align: right;\">\n",
              "      <th></th>\n",
              "      <th>Date</th>\n",
              "      <th>SKU</th>\n",
              "      <th>Product Name</th>\n",
              "      <th>City</th>\n",
              "      <th>Sales</th>\n",
              "      <th>Description</th>\n",
              "      <th>Category</th>\n",
              "      <th>Price</th>\n",
              "      <th>Total Sale Value</th>\n",
              "    </tr>\n",
              "  </thead>\n",
              "  <tbody>\n",
              "    <tr>\n",
              "      <th>0</th>\n",
              "      <td>2025-01-01</td>\n",
              "      <td>F001</td>\n",
              "      <td>Prateek England</td>\n",
              "      <td>Mumbai</td>\n",
              "      <td>23</td>\n",
              "      <td>Prateek England</td>\n",
              "      <td>Fashion</td>\n",
              "      <td>1104</td>\n",
              "      <td>25392</td>\n",
              "    </tr>\n",
              "    <tr>\n",
              "      <th>1</th>\n",
              "      <td>2025-01-01</td>\n",
              "      <td>F002</td>\n",
              "      <td>Lucy Phillepe</td>\n",
              "      <td>Mumbai</td>\n",
              "      <td>75</td>\n",
              "      <td>Lucy Phillepe</td>\n",
              "      <td>Fashion</td>\n",
              "      <td>2485</td>\n",
              "      <td>186375</td>\n",
              "    </tr>\n",
              "    <tr>\n",
              "      <th>2</th>\n",
              "      <td>2025-01-01</td>\n",
              "      <td>F003</td>\n",
              "      <td>Badlands</td>\n",
              "      <td>Mumbai</td>\n",
              "      <td>33</td>\n",
              "      <td>Badlands</td>\n",
              "      <td>Fashion</td>\n",
              "      <td>1425</td>\n",
              "      <td>47025</td>\n",
              "    </tr>\n",
              "    <tr>\n",
              "      <th>3</th>\n",
              "      <td>2025-01-01</td>\n",
              "      <td>F004</td>\n",
              "      <td>Allen Dolly</td>\n",
              "      <td>Mumbai</td>\n",
              "      <td>3</td>\n",
              "      <td>Allen Dolly</td>\n",
              "      <td>Fashion</td>\n",
              "      <td>2640</td>\n",
              "      <td>7920</td>\n",
              "    </tr>\n",
              "    <tr>\n",
              "      <th>4</th>\n",
              "      <td>2025-01-01</td>\n",
              "      <td>F005</td>\n",
              "      <td>Bucchi</td>\n",
              "      <td>Mumbai</td>\n",
              "      <td>3</td>\n",
              "      <td>Bucchi</td>\n",
              "      <td>Fashion</td>\n",
              "      <td>11299</td>\n",
              "      <td>33897</td>\n",
              "    </tr>\n",
              "  </tbody>\n",
              "</table>\n",
              "</div>"
            ],
            "text/plain": [
              "        Date   SKU     Product Name    City  Sales      Description  Category  \\\n",
              "0 2025-01-01  F001  Prateek England  Mumbai     23  Prateek England  Fashion    \n",
              "1 2025-01-01  F002    Lucy Phillepe  Mumbai     75    Lucy Phillepe  Fashion    \n",
              "2 2025-01-01  F003         Badlands  Mumbai     33         Badlands  Fashion    \n",
              "3 2025-01-01  F004      Allen Dolly  Mumbai      3      Allen Dolly  Fashion    \n",
              "4 2025-01-01  F005           Bucchi  Mumbai      3           Bucchi  Fashion    \n",
              "\n",
              "   Price  Total Sale Value  \n",
              "0   1104             25392  \n",
              "1   2485            186375  \n",
              "2   1425             47025  \n",
              "3   2640              7920  \n",
              "4  11299             33897  "
            ]
          },
          "execution_count": 21,
          "metadata": {},
          "output_type": "execute_result"
        }
      ],
      "source": [
        "#merged_skumaster_sales                      = pd.merge(skumaster, sales, how=\"inner\", on=\"SKU\")\n",
        "merged_skumaster_sales                       = pd.merge(sales, skumaster, how=\"left\", on=\"SKU\")\n",
        "merged_skumaster_sales[\"Total Sale Value\"]   = merged_skumaster_sales[\"Price\"] * merged_skumaster_sales[\"Sales\"]\n",
        "merged_skumaster_sales.head(5)"
      ]
    },
    {
      "cell_type": "code",
      "execution_count": 22,
      "metadata": {
        "colab": {
          "base_uri": "https://localhost:8080/"
        },
        "id": "qajVyXco52O5",
        "outputId": "bb869153-a6fd-4b87-bc10-22a6ef9122da"
      },
      "outputs": [
        {
          "name": "stdout",
          "output_type": "stream",
          "text": [
            "Question 5 Asnwer: Fraction of total sales from Mumbai: 0.3425\n"
          ]
        }
      ],
      "source": [
        "city_name =\"Mumbai\"\n",
        "total_sales  = merged_skumaster_sales  [\"Total Sale Value\"].sum()\n",
        "city_sales = merged_skumaster_sales[merged_skumaster_sales[\"City\"] == city_name][\"Total Sale Value\"].sum()\n",
        "if total_sales != 0:\n",
        "  fraction = city_sales / total_sales #print(fraction)\n",
        "else:\n",
        "    fraction = 0\n",
        "print(f\"Question 5 Asnwer: Fraction of total sales from {city_name}: {fraction:.4f}\")"
      ]
    },
    {
      "cell_type": "markdown",
      "metadata": {
        "id": "0zJqxU_6JKxV"
      },
      "source": [
        "## Question 6\n",
        "What is the no. of units of household category SKUs are in stock at the end of 15th Jan 2025 in Nasik DC?(INTEGER)"
      ]
    },
    {
      "cell_type": "code",
      "execution_count": 23,
      "metadata": {
        "id": "nra3A48CFJ39"
      },
      "outputs": [],
      "source": [
        "from openpyxl.utils import get_column_letter"
      ]
    },
    {
      "cell_type": "code",
      "execution_count": 24,
      "metadata": {
        "colab": {
          "base_uri": "https://localhost:8080/",
          "height": 241
        },
        "id": "rEQ6lcT7FtOd",
        "outputId": "415368cb-0a54-4d65-bd5e-81261c5d4921"
      },
      "outputs": [
        {
          "data": {
            "text/plain": [
              "35    H001\n",
              "36    H002\n",
              "37    H003\n",
              "38    H004\n",
              "39    H005\n",
              "Name: SKU, dtype: object"
            ]
          },
          "execution_count": 24,
          "metadata": {},
          "output_type": "execute_result"
        }
      ],
      "source": [
        "household_skus = skumaster[skumaster[\"Category\"].str.strip() == \"Household\"][\"SKU\"]\n",
        "household_skus"
      ]
    },
    {
      "cell_type": "code",
      "execution_count": 25,
      "metadata": {
        "colab": {
          "base_uri": "https://localhost:8080/"
        },
        "id": "-90ejn02KbGk",
        "outputId": "c0891084-5d96-433e-e8d1-688d5059b957"
      },
      "outputs": [
        {
          "name": "stdout",
          "output_type": "stream",
          "text": [
            "Household Items Opening Stock (as of Jan 1) in Nasik DC : 674\n"
          ]
        }
      ],
      "source": [
        "#Opening Stock (as of Jan 1)\n",
        "col = \"Nashik\"\n",
        "os=openingstock.loc[openingstock[\"SKU\"].isin(household_skus), col].sum()\n",
        "print(\"Household Items Opening Stock (as of Jan 1) in Nasik DC :\", os)"
      ]
    },
    {
      "cell_type": "code",
      "execution_count": 26,
      "metadata": {
        "colab": {
          "base_uri": "https://localhost:8080/",
          "height": 273
        },
        "id": "41XsEdg8E15A",
        "outputId": "24f90640-caf4-46f9-a3fe-5db653ba4605"
      },
      "outputs": [
        {
          "data": {
            "text/html": [
              "<div>\n",
              "<style scoped>\n",
              "    .dataframe tbody tr th:only-of-type {\n",
              "        vertical-align: middle;\n",
              "    }\n",
              "\n",
              "    .dataframe tbody tr th {\n",
              "        vertical-align: top;\n",
              "    }\n",
              "\n",
              "    .dataframe thead th {\n",
              "        text-align: right;\n",
              "    }\n",
              "</style>\n",
              "<table border=\"1\" class=\"dataframe\">\n",
              "  <thead>\n",
              "    <tr style=\"text-align: right;\">\n",
              "      <th></th>\n",
              "      <th>City</th>\n",
              "      <th>Pune</th>\n",
              "      <th>Unnamed: 2</th>\n",
              "      <th>Unnamed: 3</th>\n",
              "      <th>Unnamed: 4</th>\n",
              "      <th>Unnamed: 5</th>\n",
              "      <th>Unnamed: 6</th>\n",
              "      <th>Unnamed: 7</th>\n",
              "      <th>Unnamed: 8</th>\n",
              "      <th>Unnamed: 9</th>\n",
              "      <th>...</th>\n",
              "      <th>Unnamed: 84</th>\n",
              "      <th>Unnamed: 85</th>\n",
              "      <th>Unnamed: 86</th>\n",
              "      <th>Unnamed: 87</th>\n",
              "      <th>Unnamed: 88</th>\n",
              "      <th>Unnamed: 89</th>\n",
              "      <th>Unnamed: 90</th>\n",
              "      <th>Unnamed: 91</th>\n",
              "      <th>Unnamed: 92</th>\n",
              "      <th>Unnamed: 93</th>\n",
              "    </tr>\n",
              "  </thead>\n",
              "  <tbody>\n",
              "    <tr>\n",
              "      <th>36</th>\n",
              "      <td>H001</td>\n",
              "      <td>43</td>\n",
              "      <td>76</td>\n",
              "      <td>68</td>\n",
              "      <td>75</td>\n",
              "      <td>78</td>\n",
              "      <td>76</td>\n",
              "      <td>69</td>\n",
              "      <td>75</td>\n",
              "      <td>74</td>\n",
              "      <td>...</td>\n",
              "      <td>67</td>\n",
              "      <td>80</td>\n",
              "      <td>71</td>\n",
              "      <td>73</td>\n",
              "      <td>67</td>\n",
              "      <td>69</td>\n",
              "      <td>72</td>\n",
              "      <td>70</td>\n",
              "      <td>71</td>\n",
              "      <td>73</td>\n",
              "    </tr>\n",
              "    <tr>\n",
              "      <th>37</th>\n",
              "      <td>H002</td>\n",
              "      <td>26</td>\n",
              "      <td>76</td>\n",
              "      <td>33</td>\n",
              "      <td>20</td>\n",
              "      <td>46</td>\n",
              "      <td>63</td>\n",
              "      <td>24</td>\n",
              "      <td>44</td>\n",
              "      <td>44</td>\n",
              "      <td>...</td>\n",
              "      <td>86</td>\n",
              "      <td>98</td>\n",
              "      <td>97</td>\n",
              "      <td>81</td>\n",
              "      <td>80</td>\n",
              "      <td>84</td>\n",
              "      <td>76</td>\n",
              "      <td>84</td>\n",
              "      <td>80</td>\n",
              "      <td>81</td>\n",
              "    </tr>\n",
              "    <tr>\n",
              "      <th>38</th>\n",
              "      <td>H003</td>\n",
              "      <td>28</td>\n",
              "      <td>50</td>\n",
              "      <td>27</td>\n",
              "      <td>65</td>\n",
              "      <td>52</td>\n",
              "      <td>52</td>\n",
              "      <td>69</td>\n",
              "      <td>76</td>\n",
              "      <td>66</td>\n",
              "      <td>...</td>\n",
              "      <td>88</td>\n",
              "      <td>84</td>\n",
              "      <td>89</td>\n",
              "      <td>91</td>\n",
              "      <td>94</td>\n",
              "      <td>92</td>\n",
              "      <td>87</td>\n",
              "      <td>87</td>\n",
              "      <td>95</td>\n",
              "      <td>89</td>\n",
              "    </tr>\n",
              "    <tr>\n",
              "      <th>39</th>\n",
              "      <td>H004</td>\n",
              "      <td>37</td>\n",
              "      <td>35</td>\n",
              "      <td>42</td>\n",
              "      <td>78</td>\n",
              "      <td>46</td>\n",
              "      <td>40</td>\n",
              "      <td>63</td>\n",
              "      <td>72</td>\n",
              "      <td>33</td>\n",
              "      <td>...</td>\n",
              "      <td>81</td>\n",
              "      <td>78</td>\n",
              "      <td>91</td>\n",
              "      <td>91</td>\n",
              "      <td>95</td>\n",
              "      <td>92</td>\n",
              "      <td>89</td>\n",
              "      <td>84</td>\n",
              "      <td>82</td>\n",
              "      <td>84</td>\n",
              "    </tr>\n",
              "    <tr>\n",
              "      <th>40</th>\n",
              "      <td>H005</td>\n",
              "      <td>61</td>\n",
              "      <td>56</td>\n",
              "      <td>43</td>\n",
              "      <td>48</td>\n",
              "      <td>67</td>\n",
              "      <td>59</td>\n",
              "      <td>65</td>\n",
              "      <td>32</td>\n",
              "      <td>65</td>\n",
              "      <td>...</td>\n",
              "      <td>81</td>\n",
              "      <td>80</td>\n",
              "      <td>85</td>\n",
              "      <td>86</td>\n",
              "      <td>94</td>\n",
              "      <td>91</td>\n",
              "      <td>79</td>\n",
              "      <td>93</td>\n",
              "      <td>90</td>\n",
              "      <td>97</td>\n",
              "    </tr>\n",
              "  </tbody>\n",
              "</table>\n",
              "<p>5 rows × 94 columns</p>\n",
              "</div>"
            ],
            "text/plain": [
              "    City Pune Unnamed: 2 Unnamed: 3 Unnamed: 4 Unnamed: 5 Unnamed: 6  \\\n",
              "36  H001   43         76         68         75         78         76   \n",
              "37  H002   26         76         33         20         46         63   \n",
              "38  H003   28         50         27         65         52         52   \n",
              "39  H004   37         35         42         78         46         40   \n",
              "40  H005   61         56         43         48         67         59   \n",
              "\n",
              "   Unnamed: 7 Unnamed: 8 Unnamed: 9  ... Unnamed: 84 Unnamed: 85 Unnamed: 86  \\\n",
              "36         69         75         74  ...          67          80          71   \n",
              "37         24         44         44  ...          86          98          97   \n",
              "38         69         76         66  ...          88          84          89   \n",
              "39         63         72         33  ...          81          78          91   \n",
              "40         65         32         65  ...          81          80          85   \n",
              "\n",
              "   Unnamed: 87 Unnamed: 88 Unnamed: 89 Unnamed: 90 Unnamed: 91 Unnamed: 92  \\\n",
              "36          73          67          69          72          70          71   \n",
              "37          81          80          84          76          84          80   \n",
              "38          91          94          92          87          87          95   \n",
              "39          91          95          92          89          84          82   \n",
              "40          86          94          91          79          93          90   \n",
              "\n",
              "   Unnamed: 93  \n",
              "36          73  \n",
              "37          81  \n",
              "38          89  \n",
              "39          84  \n",
              "40          97  \n",
              "\n",
              "[5 rows x 94 columns]"
            ]
          },
          "execution_count": 26,
          "metadata": {},
          "output_type": "execute_result"
        }
      ],
      "source": [
        "#Inward Stock Transfers (st) to Nasik (between Jan 1 and Jan 15)\n",
        "household = stocktransfer[stocktransfer[\"City\"].isin(household_skus)]\n",
        "household.head()"
      ]
    },
    {
      "cell_type": "code",
      "execution_count": 27,
      "metadata": {
        "colab": {
          "base_uri": "https://localhost:8080/"
        },
        "id": "O3t412fJACU1",
        "outputId": "0697b625-2c1a-4f20-a03e-01b7f36fe295"
      },
      "outputs": [
        {
          "name": "stdout",
          "output_type": "stream",
          "text": [
            "64\n",
            "BL\n"
          ]
        }
      ],
      "source": [
        "col = \"Nasik\"\n",
        "if col in stocktransfer.columns:\n",
        "    excel_col_index = stocktransfer.columns.get_loc(col) + 1\n",
        "print(excel_col_index)\n",
        "print(get_column_letter(excel_col_index))"
      ]
    },
    {
      "cell_type": "code",
      "execution_count": 28,
      "metadata": {
        "colab": {
          "base_uri": "https://localhost:8080/",
          "height": 224
        },
        "id": "18URpefAA1PW",
        "outputId": "0ff37e96-c7aa-4de4-b9d1-fc920351101b"
      },
      "outputs": [
        {
          "data": {
            "text/html": [
              "<div>\n",
              "<style scoped>\n",
              "    .dataframe tbody tr th:only-of-type {\n",
              "        vertical-align: middle;\n",
              "    }\n",
              "\n",
              "    .dataframe tbody tr th {\n",
              "        vertical-align: top;\n",
              "    }\n",
              "\n",
              "    .dataframe thead th {\n",
              "        text-align: right;\n",
              "    }\n",
              "</style>\n",
              "<table border=\"1\" class=\"dataframe\">\n",
              "  <thead>\n",
              "    <tr style=\"text-align: right;\">\n",
              "      <th></th>\n",
              "      <th>Nasik</th>\n",
              "      <th>Unnamed: 64</th>\n",
              "      <th>Unnamed: 65</th>\n",
              "      <th>Unnamed: 66</th>\n",
              "      <th>Unnamed: 67</th>\n",
              "      <th>Unnamed: 68</th>\n",
              "      <th>Unnamed: 69</th>\n",
              "      <th>Unnamed: 70</th>\n",
              "      <th>Unnamed: 71</th>\n",
              "      <th>Unnamed: 72</th>\n",
              "      <th>Unnamed: 73</th>\n",
              "      <th>Unnamed: 74</th>\n",
              "      <th>Unnamed: 75</th>\n",
              "      <th>Unnamed: 76</th>\n",
              "      <th>Unnamed: 77</th>\n",
              "    </tr>\n",
              "  </thead>\n",
              "  <tbody>\n",
              "    <tr>\n",
              "      <th>36</th>\n",
              "      <td>75</td>\n",
              "      <td>75</td>\n",
              "      <td>69</td>\n",
              "      <td>74</td>\n",
              "      <td>75</td>\n",
              "      <td>69</td>\n",
              "      <td>77</td>\n",
              "      <td>78</td>\n",
              "      <td>71</td>\n",
              "      <td>69</td>\n",
              "      <td>69</td>\n",
              "      <td>69</td>\n",
              "      <td>77</td>\n",
              "      <td>77</td>\n",
              "      <td>74</td>\n",
              "    </tr>\n",
              "    <tr>\n",
              "      <th>37</th>\n",
              "      <td>49</td>\n",
              "      <td>64</td>\n",
              "      <td>63</td>\n",
              "      <td>80</td>\n",
              "      <td>94</td>\n",
              "      <td>90</td>\n",
              "      <td>78</td>\n",
              "      <td>82</td>\n",
              "      <td>88</td>\n",
              "      <td>91</td>\n",
              "      <td>94</td>\n",
              "      <td>80</td>\n",
              "      <td>88</td>\n",
              "      <td>85</td>\n",
              "      <td>84</td>\n",
              "    </tr>\n",
              "    <tr>\n",
              "      <th>38</th>\n",
              "      <td>48</td>\n",
              "      <td>52</td>\n",
              "      <td>70</td>\n",
              "      <td>85</td>\n",
              "      <td>98</td>\n",
              "      <td>96</td>\n",
              "      <td>81</td>\n",
              "      <td>98</td>\n",
              "      <td>79</td>\n",
              "      <td>90</td>\n",
              "      <td>92</td>\n",
              "      <td>86</td>\n",
              "      <td>91</td>\n",
              "      <td>91</td>\n",
              "      <td>95</td>\n",
              "    </tr>\n",
              "    <tr>\n",
              "      <th>39</th>\n",
              "      <td>50</td>\n",
              "      <td>66</td>\n",
              "      <td>51</td>\n",
              "      <td>96</td>\n",
              "      <td>79</td>\n",
              "      <td>89</td>\n",
              "      <td>95</td>\n",
              "      <td>77</td>\n",
              "      <td>87</td>\n",
              "      <td>78</td>\n",
              "      <td>92</td>\n",
              "      <td>95</td>\n",
              "      <td>93</td>\n",
              "      <td>81</td>\n",
              "      <td>94</td>\n",
              "    </tr>\n",
              "    <tr>\n",
              "      <th>40</th>\n",
              "      <td>58</td>\n",
              "      <td>59</td>\n",
              "      <td>51</td>\n",
              "      <td>78</td>\n",
              "      <td>79</td>\n",
              "      <td>82</td>\n",
              "      <td>85</td>\n",
              "      <td>98</td>\n",
              "      <td>84</td>\n",
              "      <td>83</td>\n",
              "      <td>91</td>\n",
              "      <td>95</td>\n",
              "      <td>95</td>\n",
              "      <td>92</td>\n",
              "      <td>90</td>\n",
              "    </tr>\n",
              "  </tbody>\n",
              "</table>\n",
              "</div>"
            ],
            "text/plain": [
              "   Nasik Unnamed: 64 Unnamed: 65 Unnamed: 66 Unnamed: 67 Unnamed: 68  \\\n",
              "36    75          75          69          74          75          69   \n",
              "37    49          64          63          80          94          90   \n",
              "38    48          52          70          85          98          96   \n",
              "39    50          66          51          96          79          89   \n",
              "40    58          59          51          78          79          82   \n",
              "\n",
              "   Unnamed: 69 Unnamed: 70 Unnamed: 71 Unnamed: 72 Unnamed: 73 Unnamed: 74  \\\n",
              "36          77          78          71          69          69          69   \n",
              "37          78          82          88          91          94          80   \n",
              "38          81          98          79          90          92          86   \n",
              "39          95          77          87          78          92          95   \n",
              "40          85          98          84          83          91          95   \n",
              "\n",
              "   Unnamed: 75 Unnamed: 76 Unnamed: 77  \n",
              "36          77          77          74  \n",
              "37          88          85          84  \n",
              "38          91          91          95  \n",
              "39          93          81          94  \n",
              "40          95          92          90  "
            ]
          },
          "execution_count": 28,
          "metadata": {},
          "output_type": "execute_result"
        }
      ],
      "source": [
        "household.iloc[:, excel_col_index-1 : excel_col_index + 14]"
      ]
    },
    {
      "cell_type": "code",
      "execution_count": 29,
      "metadata": {
        "colab": {
          "base_uri": "https://localhost:8080/"
        },
        "id": "fhvdPRqtNXMR",
        "outputId": "c1ad819a-aa28-4136-f19d-11a5407d448f"
      },
      "outputs": [
        {
          "name": "stdout",
          "output_type": "stream",
          "text": [
            " Stock Transfered for household items at Nasick DC (from Jan 1 to 15) : 6003\n"
          ]
        }
      ],
      "source": [
        "st = household.iloc[:, excel_col_index-1 : excel_col_index + 14].sum().sum()\n",
        "print(\" Stock Transfered for household items at Nasick DC (from Jan 1 to 15) :\", st)"
      ]
    },
    {
      "cell_type": "code",
      "execution_count": 30,
      "metadata": {
        "colab": {
          "base_uri": "https://localhost:8080/"
        },
        "id": "LDHTV6viLrXW",
        "outputId": "440383cd-5728-460d-a238-bd42858ca19d"
      },
      "outputs": [
        {
          "name": "stdout",
          "output_type": "stream",
          "text": [
            "Household items Units Sold at Nasik DC (from Jan 1 to 15) : 5387\n"
          ]
        }
      ],
      "source": [
        "#household items units_sold (us) between Jan 1 and Jan 15 )\n",
        "from datetime import datetime\n",
        "start_date = \"2025-01-01\"\n",
        "end_date = \"2025-01-15\"\n",
        "sales[\"Date\"] = pd.to_datetime(sales[\"Date\"])\n",
        "us = sales[\n",
        "    (sales[\"SKU\"].isin(household_skus)) &\n",
        "    (sales[\"City\"] == \"Nasik\") &\n",
        "    (sales[\"Date\"] >= start_date) &\n",
        "    (sales[\"Date\"] <= end_date)\n",
        "][\"Sales\"].sum()\n",
        "print(\"Household items Units Sold at Nasik DC (from Jan 1 to 15) :\", us )"
      ]
    },
    {
      "cell_type": "markdown",
      "metadata": {
        "id": "2XbaprQROIaf"
      },
      "source": []
    },
    {
      "cell_type": "code",
      "execution_count": 31,
      "metadata": {
        "colab": {
          "base_uri": "https://localhost:8080/"
        },
        "id": "msEfvSmJHBDR",
        "outputId": "4f2ff4f7-006f-4066-b363-5498e5fcf424"
      },
      "outputs": [
        {
          "name": "stdout",
          "output_type": "stream",
          "text": [
            "Question 6 Answer: Total units of Household category SKUs in stock at Nasik DC as of 15 Jan 2025: 1290\n"
          ]
        }
      ],
      "source": [
        "# no. of units of household category SKUs are in stock at the end of 15th Jan 2025 in Nasik DC?(\n",
        "final_units_in_stock = os + st - us\n",
        "print(\"Question 6 Answer: Total units of Household category SKUs in stock at Nasik DC as of 15 Jan 2025:\", int(final_units_in_stock))"
      ]
    },
    {
      "cell_type": "markdown",
      "metadata": {
        "id": "5v6Yeh8eTaE5"
      },
      "source": [
        "## Question 7\n",
        "Based on the sales and stock data of Jan 2025, how many average days of inventory of SKU M003 are available in Pune? (FLOAT)"
      ]
    },
    {
      "cell_type": "code",
      "execution_count": 32,
      "metadata": {
        "colab": {
          "base_uri": "https://localhost:8080/"
        },
        "id": "jtzHq6blPOWj",
        "outputId": "e65c3f06-4f8e-419a-dfcd-eebe53000504"
      },
      "outputs": [
        {
          "name": "stdout",
          "output_type": "stream",
          "text": [
            "Opening Stock (as of Jan 1) in Pune DC : 70\n"
          ]
        }
      ],
      "source": [
        "#Opening Stock (as of Jan 1)\n",
        "col = \"Pune\"\n",
        "sku = \"M003\"\n",
        "os_m003  = openingstock.loc[openingstock[\"SKU\"]==sku, col].sum()\n",
        "print(\"Opening Stock (as of Jan 1) in Pune DC :\", os_m003)"
      ]
    },
    {
      "cell_type": "code",
      "execution_count": 33,
      "metadata": {
        "colab": {
          "base_uri": "https://localhost:8080/",
          "height": 147
        },
        "id": "HKINm8PhQCc7",
        "outputId": "7492d551-175f-4d6a-ea08-e76d8be3feec"
      },
      "outputs": [
        {
          "data": {
            "text/html": [
              "<div>\n",
              "<style scoped>\n",
              "    .dataframe tbody tr th:only-of-type {\n",
              "        vertical-align: middle;\n",
              "    }\n",
              "\n",
              "    .dataframe tbody tr th {\n",
              "        vertical-align: top;\n",
              "    }\n",
              "\n",
              "    .dataframe thead th {\n",
              "        text-align: right;\n",
              "    }\n",
              "</style>\n",
              "<table border=\"1\" class=\"dataframe\">\n",
              "  <thead>\n",
              "    <tr style=\"text-align: right;\">\n",
              "      <th></th>\n",
              "      <th>City</th>\n",
              "      <th>Pune</th>\n",
              "      <th>Unnamed: 2</th>\n",
              "      <th>Unnamed: 3</th>\n",
              "      <th>Unnamed: 4</th>\n",
              "      <th>Unnamed: 5</th>\n",
              "      <th>Unnamed: 6</th>\n",
              "      <th>Unnamed: 7</th>\n",
              "      <th>Unnamed: 8</th>\n",
              "      <th>Unnamed: 9</th>\n",
              "      <th>...</th>\n",
              "      <th>Unnamed: 84</th>\n",
              "      <th>Unnamed: 85</th>\n",
              "      <th>Unnamed: 86</th>\n",
              "      <th>Unnamed: 87</th>\n",
              "      <th>Unnamed: 88</th>\n",
              "      <th>Unnamed: 89</th>\n",
              "      <th>Unnamed: 90</th>\n",
              "      <th>Unnamed: 91</th>\n",
              "      <th>Unnamed: 92</th>\n",
              "      <th>Unnamed: 93</th>\n",
              "    </tr>\n",
              "  </thead>\n",
              "  <tbody>\n",
              "    <tr>\n",
              "      <th>8</th>\n",
              "      <td>M003</td>\n",
              "      <td>26</td>\n",
              "      <td>26</td>\n",
              "      <td>29</td>\n",
              "      <td>20</td>\n",
              "      <td>19</td>\n",
              "      <td>20</td>\n",
              "      <td>30</td>\n",
              "      <td>27</td>\n",
              "      <td>17</td>\n",
              "      <td>...</td>\n",
              "      <td>19</td>\n",
              "      <td>23</td>\n",
              "      <td>25</td>\n",
              "      <td>26</td>\n",
              "      <td>19</td>\n",
              "      <td>20</td>\n",
              "      <td>19</td>\n",
              "      <td>23</td>\n",
              "      <td>20</td>\n",
              "      <td>22</td>\n",
              "    </tr>\n",
              "  </tbody>\n",
              "</table>\n",
              "<p>1 rows × 94 columns</p>\n",
              "</div>"
            ],
            "text/plain": [
              "   City Pune Unnamed: 2 Unnamed: 3 Unnamed: 4 Unnamed: 5 Unnamed: 6  \\\n",
              "8  M003   26         26         29         20         19         20   \n",
              "\n",
              "  Unnamed: 7 Unnamed: 8 Unnamed: 9  ... Unnamed: 84 Unnamed: 85 Unnamed: 86  \\\n",
              "8         30         27         17  ...          19          23          25   \n",
              "\n",
              "  Unnamed: 87 Unnamed: 88 Unnamed: 89 Unnamed: 90 Unnamed: 91 Unnamed: 92  \\\n",
              "8          26          19          20          19          23          20   \n",
              "\n",
              "  Unnamed: 93  \n",
              "8          22  \n",
              "\n",
              "[1 rows x 94 columns]"
            ]
          },
          "execution_count": 33,
          "metadata": {},
          "output_type": "execute_result"
        }
      ],
      "source": [
        "#Inward Stock Transfers (st) to Pune (between Jan 1 and Jan 31)\n",
        "household = stocktransfer[stocktransfer[\"City\"]==sku]\n",
        "household.head()"
      ]
    },
    {
      "cell_type": "code",
      "execution_count": 34,
      "metadata": {
        "colab": {
          "base_uri": "https://localhost:8080/"
        },
        "id": "B4QSH8ZnQRQ8",
        "outputId": "b6bdd1b3-9cd9-4a50-b561-974d53fd4a1e"
      },
      "outputs": [
        {
          "name": "stdout",
          "output_type": "stream",
          "text": [
            "2\n",
            "B\n"
          ]
        }
      ],
      "source": [
        "col = \"Pune\"\n",
        "if col in stocktransfer.columns:\n",
        "    excel_col_index = stocktransfer.columns.get_loc(col) + 1\n",
        "print(excel_col_index)\n",
        "print(get_column_letter(excel_col_index))"
      ]
    },
    {
      "cell_type": "code",
      "execution_count": 35,
      "metadata": {
        "colab": {
          "base_uri": "https://localhost:8080/",
          "height": 147
        },
        "id": "IJzrluo8QbNt",
        "outputId": "e0ea4ea4-2361-4703-8937-5d5833510955"
      },
      "outputs": [
        {
          "data": {
            "text/html": [
              "<div>\n",
              "<style scoped>\n",
              "    .dataframe tbody tr th:only-of-type {\n",
              "        vertical-align: middle;\n",
              "    }\n",
              "\n",
              "    .dataframe tbody tr th {\n",
              "        vertical-align: top;\n",
              "    }\n",
              "\n",
              "    .dataframe thead th {\n",
              "        text-align: right;\n",
              "    }\n",
              "</style>\n",
              "<table border=\"1\" class=\"dataframe\">\n",
              "  <thead>\n",
              "    <tr style=\"text-align: right;\">\n",
              "      <th></th>\n",
              "      <th>Pune</th>\n",
              "      <th>Unnamed: 2</th>\n",
              "      <th>Unnamed: 3</th>\n",
              "      <th>Unnamed: 4</th>\n",
              "      <th>Unnamed: 5</th>\n",
              "      <th>Unnamed: 6</th>\n",
              "      <th>Unnamed: 7</th>\n",
              "      <th>Unnamed: 8</th>\n",
              "      <th>Unnamed: 9</th>\n",
              "      <th>Unnamed: 10</th>\n",
              "      <th>...</th>\n",
              "      <th>Unnamed: 22</th>\n",
              "      <th>Unnamed: 23</th>\n",
              "      <th>Unnamed: 24</th>\n",
              "      <th>Unnamed: 25</th>\n",
              "      <th>Unnamed: 26</th>\n",
              "      <th>Unnamed: 27</th>\n",
              "      <th>Unnamed: 28</th>\n",
              "      <th>Unnamed: 29</th>\n",
              "      <th>Unnamed: 30</th>\n",
              "      <th>Unnamed: 31</th>\n",
              "    </tr>\n",
              "  </thead>\n",
              "  <tbody>\n",
              "    <tr>\n",
              "      <th>8</th>\n",
              "      <td>26</td>\n",
              "      <td>26</td>\n",
              "      <td>29</td>\n",
              "      <td>20</td>\n",
              "      <td>19</td>\n",
              "      <td>20</td>\n",
              "      <td>30</td>\n",
              "      <td>27</td>\n",
              "      <td>17</td>\n",
              "      <td>30</td>\n",
              "      <td>...</td>\n",
              "      <td>9</td>\n",
              "      <td>13</td>\n",
              "      <td>12</td>\n",
              "      <td>13</td>\n",
              "      <td>14</td>\n",
              "      <td>13</td>\n",
              "      <td>14</td>\n",
              "      <td>7</td>\n",
              "      <td>12</td>\n",
              "      <td>7</td>\n",
              "    </tr>\n",
              "  </tbody>\n",
              "</table>\n",
              "<p>1 rows × 31 columns</p>\n",
              "</div>"
            ],
            "text/plain": [
              "  Pune Unnamed: 2 Unnamed: 3 Unnamed: 4 Unnamed: 5 Unnamed: 6 Unnamed: 7  \\\n",
              "8   26         26         29         20         19         20         30   \n",
              "\n",
              "  Unnamed: 8 Unnamed: 9 Unnamed: 10  ... Unnamed: 22 Unnamed: 23 Unnamed: 24  \\\n",
              "8         27         17          30  ...           9          13          12   \n",
              "\n",
              "  Unnamed: 25 Unnamed: 26 Unnamed: 27 Unnamed: 28 Unnamed: 29 Unnamed: 30  \\\n",
              "8          13          14          13          14           7          12   \n",
              "\n",
              "  Unnamed: 31  \n",
              "8           7  \n",
              "\n",
              "[1 rows x 31 columns]"
            ]
          },
          "execution_count": 35,
          "metadata": {},
          "output_type": "execute_result"
        }
      ],
      "source": [
        "household.iloc[:, excel_col_index-1 : excel_col_index + 30]"
      ]
    },
    {
      "cell_type": "code",
      "execution_count": 36,
      "metadata": {
        "colab": {
          "base_uri": "https://localhost:8080/"
        },
        "id": "8MYhxwmUQoqw",
        "outputId": "ebf161e4-a480-47e7-e230-5e69efb360b1"
      },
      "outputs": [
        {
          "name": "stdout",
          "output_type": "stream",
          "text": [
            " Stock Transfered for sku items at Pune DC (from Jan 1 to 31) : 511\n"
          ]
        }
      ],
      "source": [
        "st_m003 = household.iloc[:, excel_col_index-1 : excel_col_index + 30].sum().sum()\n",
        "print(\" Stock Transfered for sku items at Pune DC (from Jan 1 to 31) :\", st_m003)"
      ]
    },
    {
      "cell_type": "code",
      "execution_count": 37,
      "metadata": {
        "colab": {
          "base_uri": "https://localhost:8080/"
        },
        "id": "nl9WMYn-Q1gt",
        "outputId": "651f008c-b0fd-4d0d-c74e-550f6dea1a80"
      },
      "outputs": [
        {
          "name": "stdout",
          "output_type": "stream",
          "text": [
            "SKU Units Sold at Pune DC (from Jan 1 to 31) : 449\n"
          ]
        }
      ],
      "source": [
        "#sku units_sold (us) between Jan 1 and Jan 30 )\n",
        "from datetime import datetime\n",
        "start_date = \"2025-01-01\"\n",
        "end_date = \"2025-01-31\"\n",
        "sales[\"Date\"] = pd.to_datetime(sales[\"Date\"])\n",
        "us_m003 = sales[\n",
        "    (sales[\"SKU\"] == sku) &\n",
        "    (sales[\"City\"] == \"Pune\") &\n",
        "    (sales[\"Date\"] >= start_date) &\n",
        "    (sales[\"Date\"] <= end_date)\n",
        "][\"Sales\"].sum()\n",
        "print(\"SKU Units Sold at Pune DC (from Jan 1 to 31) :\", us_m003 )"
      ]
    },
    {
      "cell_type": "code",
      "execution_count": 38,
      "metadata": {
        "colab": {
          "base_uri": "https://localhost:8080/"
        },
        "id": "z_68ZFrdRF53",
        "outputId": "3a181042-786b-4806-873a-285ee1c07fb6"
      },
      "outputs": [
        {
          "data": {
            "text/plain": [
              "np.float64(6.973273942093541)"
            ]
          },
          "execution_count": 38,
          "metadata": {},
          "output_type": "execute_result"
        }
      ],
      "source": [
        "#closing stock (cs) of SKU at Pune at the end of Jan (on 31st)\n",
        "cs_m003 = os_m003 + st_m003 - us_m003\n",
        "average_inventory = (os_m003 + cs_m003) / 2\n",
        "average_daily_sales = us_m003 / 31\n",
        "days_of_inventory = average_inventory / average_daily_sales if average_daily_sales > 0 else float(\"inf\")\n",
        "days_of_inventory"
      ]
    },
    {
      "cell_type": "code",
      "execution_count": 39,
      "metadata": {
        "colab": {
          "base_uri": "https://localhost:8080/"
        },
        "id": "hmfH5G9bNgI0",
        "outputId": "46f0f161-631d-4fcd-8baf-46ec0c310644"
      },
      "outputs": [
        {
          "name": "stdout",
          "output_type": "stream",
          "text": [
            "Question 7 Answer: Days of Inventory for M003 in Pune (with transfers): 6.9733\n"
          ]
        }
      ],
      "source": [
        "print(f\"Question 7 Answer: Days of Inventory for M003 in Pune (with transfers): {days_of_inventory:.4f}\")"
      ]
    },
    {
      "cell_type": "markdown",
      "metadata": {
        "id": "7j6bn4xtTn-C"
      },
      "source": [
        "## Question 8\n",
        "Which SKU has the highest average days of inventory in Aurangabad? (STRING)"
      ]
    },
    {
      "cell_type": "code",
      "execution_count": 40,
      "metadata": {
        "id": "-4r_uGcgTRxR"
      },
      "outputs": [],
      "source": [
        "def get_doi(stocktransfer, sku, city, days):\n",
        "    os = openingstock.loc[openingstock[\"SKU\"] == sku, city].values[0]\n",
        "    #print(os)\n",
        "    us = sales[(sales[\"SKU\"] == sku) & (sales[\"City\"] == city)][\"Sales\"].sum()\n",
        "    #print(us)\n",
        "    if city in stocktransfer.columns:\n",
        "                      excel_col_index = stocktransfer.columns.get_loc(col) + 1\n",
        "    df = stocktransfer[stocktransfer[\"City\"]==sku]\n",
        "    st = df.iloc[:, excel_col_index-1 : excel_col_index + days-1].sum().sum()  # for 31 days\n",
        "    #print(st)\n",
        "    cs = max(0, os + st - us)\n",
        "    #print(cs)\n",
        "    average_inventory = (os + cs) / 2\n",
        "    #print(average_inventory)\n",
        "    average_daily_sales = us / days\n",
        "    #print(average_daily_sales)\n",
        "    return average_inventory / average_daily_sales if average_daily_sales > 0 else float(\"inf\")"
      ]
    },
    {
      "cell_type": "code",
      "execution_count": 41,
      "metadata": {
        "colab": {
          "base_uri": "https://localhost:8080/"
        },
        "id": "B6KXSUJzVPKz",
        "outputId": "d6e9c023-1719-4177-f0ca-9f8dc730118e"
      },
      "outputs": [
        {
          "name": "stdout",
          "output_type": "stream",
          "text": [
            "15.301705756929637\n"
          ]
        }
      ],
      "source": [
        "city = \"Aurangabad\"\n",
        "days = 31\n",
        "sku=\"F001\"\n",
        "print(get_doi(stocktransfer, sku, city, days) )"
      ]
    },
    {
      "cell_type": "code",
      "execution_count": 42,
      "metadata": {
        "colab": {
          "base_uri": "https://localhost:8080/"
        },
        "id": "ePHxMPYcUf3b",
        "outputId": "de3bc194-a87d-4bb1-fc0f-44b238ac7aea"
      },
      "outputs": [
        {
          "data": {
            "text/plain": [
              "array(['F001', 'F002', 'F003', 'F004', 'F005', 'M001', 'M002', 'M003',\n",
              "       'M004', 'M005', 'B001', 'B002', 'B003', 'B004', 'B005', 'V001',\n",
              "       'V002', 'V003', 'V004', 'V005', 'S001', 'S002', 'S003', 'S004',\n",
              "       'S005', 'ME001', 'ME002', 'ME003', 'ME004', 'ME005', 'K001',\n",
              "       'K002', 'K003', 'K004', 'K005', 'H001', 'H002', 'H003', 'H004',\n",
              "       'H005', 'P001', 'P002', 'P003', 'P004', 'P005', 'G001', 'G002',\n",
              "       'G003', 'G004', 'G005'], dtype=object)"
            ]
          },
          "execution_count": 42,
          "metadata": {},
          "output_type": "execute_result"
        }
      ],
      "source": [
        "skus = openingstock[\"SKU\"].unique()\n",
        "skus"
      ]
    },
    {
      "cell_type": "code",
      "execution_count": 43,
      "metadata": {
        "colab": {
          "base_uri": "https://localhost:8080/",
          "height": 308
        },
        "id": "o6tTBbutfScw",
        "outputId": "4cd517e9-e57e-4198-e5fc-41d04bea2ef0"
      },
      "outputs": [
        {
          "data": {
            "text/html": [
              "<div>\n",
              "<style scoped>\n",
              "    .dataframe tbody tr th:only-of-type {\n",
              "        vertical-align: middle;\n",
              "    }\n",
              "\n",
              "    .dataframe tbody tr th {\n",
              "        vertical-align: top;\n",
              "    }\n",
              "\n",
              "    .dataframe thead th {\n",
              "        text-align: right;\n",
              "    }\n",
              "</style>\n",
              "<table border=\"1\" class=\"dataframe\">\n",
              "  <thead>\n",
              "    <tr style=\"text-align: right;\">\n",
              "      <th></th>\n",
              "      <th>City</th>\n",
              "      <th>Pune</th>\n",
              "      <th>Unnamed: 2</th>\n",
              "      <th>Unnamed: 3</th>\n",
              "      <th>Unnamed: 4</th>\n",
              "      <th>Unnamed: 5</th>\n",
              "      <th>Unnamed: 6</th>\n",
              "      <th>Unnamed: 7</th>\n",
              "      <th>Unnamed: 8</th>\n",
              "      <th>Unnamed: 9</th>\n",
              "      <th>...</th>\n",
              "      <th>Unnamed: 84</th>\n",
              "      <th>Unnamed: 85</th>\n",
              "      <th>Unnamed: 86</th>\n",
              "      <th>Unnamed: 87</th>\n",
              "      <th>Unnamed: 88</th>\n",
              "      <th>Unnamed: 89</th>\n",
              "      <th>Unnamed: 90</th>\n",
              "      <th>Unnamed: 91</th>\n",
              "      <th>Unnamed: 92</th>\n",
              "      <th>Unnamed: 93</th>\n",
              "    </tr>\n",
              "  </thead>\n",
              "  <tbody>\n",
              "    <tr>\n",
              "      <th>0</th>\n",
              "      <td>SKU</td>\n",
              "      <td>2025-01-01 00:00:00</td>\n",
              "      <td>2025-01-02 00:00:00</td>\n",
              "      <td>2025-01-03 00:00:00</td>\n",
              "      <td>2025-01-04 00:00:00</td>\n",
              "      <td>2025-01-05 00:00:00</td>\n",
              "      <td>2025-01-06 00:00:00</td>\n",
              "      <td>2025-01-07 00:00:00</td>\n",
              "      <td>2025-01-08 00:00:00</td>\n",
              "      <td>2025-01-09 00:00:00</td>\n",
              "      <td>...</td>\n",
              "      <td>2025-01-22 00:00:00</td>\n",
              "      <td>2025-01-23 00:00:00</td>\n",
              "      <td>2025-01-24 00:00:00</td>\n",
              "      <td>2025-01-25 00:00:00</td>\n",
              "      <td>2025-01-26 00:00:00</td>\n",
              "      <td>2025-01-27 00:00:00</td>\n",
              "      <td>2025-01-28 00:00:00</td>\n",
              "      <td>2025-01-29 00:00:00</td>\n",
              "      <td>2025-01-30 00:00:00</td>\n",
              "      <td>2025-01-31 00:00:00</td>\n",
              "    </tr>\n",
              "    <tr>\n",
              "      <th>1</th>\n",
              "      <td>F001</td>\n",
              "      <td>20</td>\n",
              "      <td>27</td>\n",
              "      <td>23</td>\n",
              "      <td>19</td>\n",
              "      <td>20</td>\n",
              "      <td>19</td>\n",
              "      <td>19</td>\n",
              "      <td>19</td>\n",
              "      <td>24</td>\n",
              "      <td>...</td>\n",
              "      <td>55</td>\n",
              "      <td>49</td>\n",
              "      <td>47</td>\n",
              "      <td>59</td>\n",
              "      <td>52</td>\n",
              "      <td>58</td>\n",
              "      <td>52</td>\n",
              "      <td>52</td>\n",
              "      <td>54</td>\n",
              "      <td>55</td>\n",
              "    </tr>\n",
              "    <tr>\n",
              "      <th>2</th>\n",
              "      <td>F002</td>\n",
              "      <td>22</td>\n",
              "      <td>27</td>\n",
              "      <td>27</td>\n",
              "      <td>16</td>\n",
              "      <td>28</td>\n",
              "      <td>16</td>\n",
              "      <td>22</td>\n",
              "      <td>25</td>\n",
              "      <td>26</td>\n",
              "      <td>...</td>\n",
              "      <td>41</td>\n",
              "      <td>57</td>\n",
              "      <td>46</td>\n",
              "      <td>47</td>\n",
              "      <td>52</td>\n",
              "      <td>54</td>\n",
              "      <td>54</td>\n",
              "      <td>53</td>\n",
              "      <td>51</td>\n",
              "      <td>52</td>\n",
              "    </tr>\n",
              "    <tr>\n",
              "      <th>3</th>\n",
              "      <td>F003</td>\n",
              "      <td>26</td>\n",
              "      <td>28</td>\n",
              "      <td>30</td>\n",
              "      <td>20</td>\n",
              "      <td>18</td>\n",
              "      <td>27</td>\n",
              "      <td>27</td>\n",
              "      <td>25</td>\n",
              "      <td>28</td>\n",
              "      <td>...</td>\n",
              "      <td>58</td>\n",
              "      <td>53</td>\n",
              "      <td>45</td>\n",
              "      <td>46</td>\n",
              "      <td>57</td>\n",
              "      <td>44</td>\n",
              "      <td>44</td>\n",
              "      <td>52</td>\n",
              "      <td>41</td>\n",
              "      <td>51</td>\n",
              "    </tr>\n",
              "    <tr>\n",
              "      <th>4</th>\n",
              "      <td>F004</td>\n",
              "      <td>25</td>\n",
              "      <td>29</td>\n",
              "      <td>22</td>\n",
              "      <td>25</td>\n",
              "      <td>24</td>\n",
              "      <td>18</td>\n",
              "      <td>21</td>\n",
              "      <td>21</td>\n",
              "      <td>28</td>\n",
              "      <td>...</td>\n",
              "      <td>56</td>\n",
              "      <td>55</td>\n",
              "      <td>51</td>\n",
              "      <td>51</td>\n",
              "      <td>42</td>\n",
              "      <td>52</td>\n",
              "      <td>48</td>\n",
              "      <td>49</td>\n",
              "      <td>51</td>\n",
              "      <td>48</td>\n",
              "    </tr>\n",
              "  </tbody>\n",
              "</table>\n",
              "<p>5 rows × 94 columns</p>\n",
              "</div>"
            ],
            "text/plain": [
              "   City                 Pune           Unnamed: 2           Unnamed: 3  \\\n",
              "0   SKU  2025-01-01 00:00:00  2025-01-02 00:00:00  2025-01-03 00:00:00   \n",
              "1  F001                   20                   27                   23   \n",
              "2  F002                   22                   27                   27   \n",
              "3  F003                   26                   28                   30   \n",
              "4  F004                   25                   29                   22   \n",
              "\n",
              "            Unnamed: 4           Unnamed: 5           Unnamed: 6  \\\n",
              "0  2025-01-04 00:00:00  2025-01-05 00:00:00  2025-01-06 00:00:00   \n",
              "1                   19                   20                   19   \n",
              "2                   16                   28                   16   \n",
              "3                   20                   18                   27   \n",
              "4                   25                   24                   18   \n",
              "\n",
              "            Unnamed: 7           Unnamed: 8           Unnamed: 9  ...  \\\n",
              "0  2025-01-07 00:00:00  2025-01-08 00:00:00  2025-01-09 00:00:00  ...   \n",
              "1                   19                   19                   24  ...   \n",
              "2                   22                   25                   26  ...   \n",
              "3                   27                   25                   28  ...   \n",
              "4                   21                   21                   28  ...   \n",
              "\n",
              "           Unnamed: 84          Unnamed: 85          Unnamed: 86  \\\n",
              "0  2025-01-22 00:00:00  2025-01-23 00:00:00  2025-01-24 00:00:00   \n",
              "1                   55                   49                   47   \n",
              "2                   41                   57                   46   \n",
              "3                   58                   53                   45   \n",
              "4                   56                   55                   51   \n",
              "\n",
              "           Unnamed: 87          Unnamed: 88          Unnamed: 89  \\\n",
              "0  2025-01-25 00:00:00  2025-01-26 00:00:00  2025-01-27 00:00:00   \n",
              "1                   59                   52                   58   \n",
              "2                   47                   52                   54   \n",
              "3                   46                   57                   44   \n",
              "4                   51                   42                   52   \n",
              "\n",
              "           Unnamed: 90          Unnamed: 91          Unnamed: 92  \\\n",
              "0  2025-01-28 00:00:00  2025-01-29 00:00:00  2025-01-30 00:00:00   \n",
              "1                   52                   52                   54   \n",
              "2                   54                   53                   51   \n",
              "3                   44                   52                   41   \n",
              "4                   48                   49                   51   \n",
              "\n",
              "           Unnamed: 93  \n",
              "0  2025-01-31 00:00:00  \n",
              "1                   55  \n",
              "2                   52  \n",
              "3                   51  \n",
              "4                   48  \n",
              "\n",
              "[5 rows x 94 columns]"
            ]
          },
          "execution_count": 43,
          "metadata": {},
          "output_type": "execute_result"
        }
      ],
      "source": [
        "stocktransfer.head()"
      ]
    },
    {
      "cell_type": "code",
      "execution_count": 44,
      "metadata": {
        "colab": {
          "base_uri": "https://localhost:8080/"
        },
        "id": "8JKXRfI3XwH7",
        "outputId": "68f46152-63b9-4c49-88be-7105d8085acc"
      },
      "outputs": [
        {
          "name": "stdout",
          "output_type": "stream",
          "text": [
            "SKU: V003 → DOI: 44.38\n",
            "SKU: ME003 → DOI: 44.20\n",
            "SKU: P001 → DOI: 33.26\n",
            "SKU: S002 → DOI: 33.00\n",
            "SKU: S005 → DOI: 32.50\n",
            "SKU: P005 → DOI: 30.97\n",
            "SKU: ME001 → DOI: 29.99\n",
            "SKU: ME002 → DOI: 29.73\n",
            "SKU: P002 → DOI: 29.69\n",
            "SKU: V004 → DOI: 26.10\n",
            "SKU: V002 → DOI: 24.72\n",
            "SKU: P003 → DOI: 24.48\n",
            "SKU: ME005 → DOI: 24.34\n",
            "SKU: P004 → DOI: 23.15\n",
            "SKU: F005 → DOI: 22.80\n",
            "SKU: ME004 → DOI: 21.42\n",
            "SKU: B005 → DOI: 21.39\n",
            "SKU: K004 → DOI: 17.95\n",
            "SKU: F003 → DOI: 17.80\n",
            "SKU: M004 → DOI: 17.42\n",
            "SKU: K001 → DOI: 16.22\n",
            "SKU: B002 → DOI: 15.76\n",
            "SKU: S004 → DOI: 15.62\n",
            "SKU: F001 → DOI: 15.30\n",
            "SKU: K005 → DOI: 15.23\n",
            "SKU: F002 → DOI: 13.52\n",
            "SKU: F004 → DOI: 13.39\n",
            "SKU: M001 → DOI: 12.67\n",
            "SKU: B001 → DOI: 12.28\n",
            "SKU: B004 → DOI: 11.19\n",
            "SKU: K002 → DOI: 10.19\n",
            "SKU: V001 → DOI: 8.77\n",
            "SKU: G001 → DOI: 8.68\n",
            "SKU: V005 → DOI: 8.66\n",
            "SKU: K003 → DOI: 8.63\n",
            "SKU: S001 → DOI: 8.36\n",
            "SKU: S003 → DOI: 8.26\n",
            "SKU: M005 → DOI: 7.75\n",
            "SKU: G003 → DOI: 7.10\n",
            "SKU: B003 → DOI: 6.16\n",
            "SKU: G005 → DOI: 4.84\n",
            "SKU: M003 → DOI: 4.61\n",
            "SKU: H001 → DOI: 4.55\n",
            "SKU: M002 → DOI: 3.41\n",
            "SKU: G004 → DOI: 3.11\n",
            "SKU: G002 → DOI: 1.41\n",
            "SKU: H003 → DOI: 1.00\n",
            "SKU: H004 → DOI: 0.91\n",
            "SKU: H002 → DOI: 0.79\n",
            "SKU: H005 → DOI: 0.72\n"
          ]
        }
      ],
      "source": [
        "dois = {sku: get_doi(stocktransfer, sku, city, days) for sku in skus}\n",
        "for sku, doi in sorted(dois.items(), key=lambda x: x[1], reverse=True):\n",
        "    print(f\"SKU: {sku} → DOI: {doi:.2f}\")"
      ]
    },
    {
      "cell_type": "code",
      "execution_count": 45,
      "metadata": {
        "colab": {
          "base_uri": "https://localhost:8080/"
        },
        "id": "wu2NeMzcXDD0",
        "outputId": "68a8659d-9d38-48b3-bd3a-989dc2627cef"
      },
      "outputs": [
        {
          "name": "stdout",
          "output_type": "stream",
          "text": [
            "The SKU with the highest average DOI in Aurangabad is: V003\n"
          ]
        }
      ],
      "source": [
        "max_sku = max(dois, key=dois.get)\n",
        "print(f\"The SKU with the highest average DOI in {city} is: {max_sku}\")"
      ]
    },
    {
      "cell_type": "markdown",
      "metadata": {
        "id": "yRvmmh7NUbry"
      },
      "source": [
        "## Question 9\n",
        "How many SKUs hold at least one weeks’ worth of inventory on average in Pune?(INTEGER)"
      ]
    },
    {
      "cell_type": "code",
      "execution_count": 46,
      "metadata": {
        "id": "H7xKUOK6gqL8"
      },
      "outputs": [],
      "source": [
        "def get_doi(stocktransfer, sku, city, days):\n",
        "    os = openingstock.loc[openingstock[\"SKU\"] == sku, city].values[0]\n",
        "    #print(os)\n",
        "    us = sales[(sales[\"SKU\"] == sku) & (sales[\"City\"] == city)][\"Sales\"].sum()\n",
        "    #print(us)\n",
        "    if city in stocktransfer.columns:\n",
        "                      excel_col_index = stocktransfer.columns.get_loc(col) + 1\n",
        "    df = stocktransfer[stocktransfer[\"City\"]==sku]\n",
        "    st = df.iloc[:, excel_col_index-1 : excel_col_index + days-1].sum().sum()  # for 31 days\n",
        "    #print(st)\n",
        "    cs = max(0, os + st - us)\n",
        "    #print(cs)\n",
        "    average_inventory = (os + cs) / 2\n",
        "    #print(average_inventory)\n",
        "    average_daily_sales = us / days\n",
        "    #print(average_daily_sales)\n",
        "    return average_inventory / average_daily_sales if average_daily_sales > 0 else float(\"inf\")"
      ]
    },
    {
      "cell_type": "code",
      "execution_count": 47,
      "metadata": {
        "colab": {
          "base_uri": "https://localhost:8080/"
        },
        "id": "VQ9c-eEcgwI0",
        "outputId": "8f02edd9-f33e-4907-bcff-e818c45a6f08"
      },
      "outputs": [
        {
          "name": "stdout",
          "output_type": "stream",
          "text": [
            "11.003486750348674\n"
          ]
        }
      ],
      "source": [
        "city = \"Pune\"\n",
        "days = 31\n",
        "sku=\"F001\"\n",
        "print(get_doi(stocktransfer, sku, city, days) )"
      ]
    },
    {
      "cell_type": "code",
      "execution_count": 48,
      "metadata": {
        "colab": {
          "base_uri": "https://localhost:8080/"
        },
        "id": "6Uv0G1z5hE-m",
        "outputId": "a9e1eb0e-64e8-41bc-a872-f5b0ef2fc922"
      },
      "outputs": [
        {
          "name": "stdout",
          "output_type": "stream",
          "text": [
            "SKU: ME003 → DOI: 27.37\n",
            "SKU: ME004 → DOI: 22.50\n",
            "SKU: F002 → DOI: 18.03\n",
            "SKU: M005 → DOI: 17.02\n",
            "SKU: B005 → DOI: 16.82\n",
            "SKU: S005 → DOI: 16.70\n",
            "SKU: M001 → DOI: 16.63\n",
            "SKU: V003 → DOI: 16.20\n",
            "SKU: ME001 → DOI: 15.60\n",
            "SKU: H001 → DOI: 15.39\n",
            "SKU: S002 → DOI: 14.96\n",
            "SKU: M004 → DOI: 14.72\n",
            "SKU: ME005 → DOI: 14.02\n",
            "SKU: K005 → DOI: 12.34\n",
            "SKU: K004 → DOI: 11.60\n",
            "SKU: K003 → DOI: 11.40\n",
            "SKU: P001 → DOI: 11.36\n",
            "SKU: F001 → DOI: 11.00\n",
            "SKU: ME002 → DOI: 10.58\n",
            "SKU: P002 → DOI: 9.94\n",
            "SKU: V002 → DOI: 9.29\n",
            "SKU: V004 → DOI: 9.09\n",
            "SKU: B001 → DOI: 9.07\n",
            "SKU: S003 → DOI: 9.05\n",
            "SKU: V001 → DOI: 7.74\n",
            "SKU: B004 → DOI: 6.98\n",
            "SKU: M003 → DOI: 6.97\n",
            "SKU: B002 → DOI: 6.91\n",
            "SKU: B003 → DOI: 6.85\n",
            "SKU: H005 → DOI: 6.72\n",
            "SKU: S004 → DOI: 6.68\n",
            "SKU: S001 → DOI: 6.56\n",
            "SKU: K001 → DOI: 6.30\n",
            "SKU: H003 → DOI: 6.14\n",
            "SKU: G001 → DOI: 6.05\n",
            "SKU: K002 → DOI: 5.95\n",
            "SKU: H002 → DOI: 5.65\n",
            "SKU: M002 → DOI: 5.49\n",
            "SKU: P003 → DOI: 5.25\n",
            "SKU: F005 → DOI: 5.00\n",
            "SKU: G002 → DOI: 4.94\n",
            "SKU: V005 → DOI: 4.72\n",
            "SKU: P005 → DOI: 4.48\n",
            "SKU: H004 → DOI: 4.47\n",
            "SKU: F003 → DOI: 4.44\n",
            "SKU: P004 → DOI: 4.26\n",
            "SKU: F004 → DOI: 3.97\n",
            "SKU: G005 → DOI: 3.30\n",
            "SKU: G004 → DOI: 3.11\n",
            "SKU: G003 → DOI: 2.80\n"
          ]
        }
      ],
      "source": [
        "dois = {sku: get_doi(stocktransfer, sku, city, days) for sku in skus}\n",
        "for sku, doi in sorted(dois.items(), key=lambda x: x[1], reverse=True):\n",
        "    print(f\"SKU: {sku} → DOI: {doi:.2f}\")"
      ]
    },
    {
      "cell_type": "code",
      "execution_count": 49,
      "metadata": {
        "colab": {
          "base_uri": "https://localhost:8080/"
        },
        "id": "YhGiZP-6UfQl",
        "outputId": "7647df30-c6d9-40a7-c492-efa31be0861b"
      },
      "outputs": [
        {
          "name": "stdout",
          "output_type": "stream",
          "text": [
            "SKUs with ≥ 1 week's inventory: 25\n"
          ]
        }
      ],
      "source": [
        "count = sum(1 for doi in dois.values() if doi >= 7)\n",
        "print(\"SKUs with ≥ 1 week's inventory:\", count)"
      ]
    },
    {
      "cell_type": "markdown",
      "metadata": {
        "id": "vzeIYzD0Ukem"
      },
      "source": [
        "## Question 10\n",
        "What is the closing stock of K005 at the end of the month in Nasik? (INTEGER)"
      ]
    },
    {
      "cell_type": "code",
      "execution_count": 53,
      "metadata": {
        "id": "T0jp8a7chlyh"
      },
      "outputs": [],
      "source": [
        "def get_doi_cs_os(stocktransfer, sku, city, days):\n",
        "    os = openingstock.loc[openingstock[\"SKU\"] == sku, \"Nashik\"].values[0]    # its not Nasik in openingstock, its Nashik. we need to figure out as to how to handle such a dirty dataset with improper metadata\n",
        "    # print(os)\n",
        "    us = sales[(sales[\"SKU\"] == sku) & (sales[\"City\"] == city)][\"Sales\"].sum()\n",
        "    # print(us)\n",
        "    if city in stocktransfer.columns:\n",
        "                      excel_col_index = stocktransfer.columns.get_loc(col) + 1\n",
        "    df = stocktransfer[stocktransfer[\"City\"]==sku]\n",
        "    st = df.iloc[:, excel_col_index-1 : excel_col_index + days-1].sum().sum()  # for 31 days\n",
        "    print(st)\n",
        "    cs = max(0, os + st - us)\n",
        "    # print(cs)\n",
        "    average_inventory = (os + cs) / 2\n",
        "    #print(average_inventory)\n",
        "    average_daily_sales = us / days if days else 0\n",
        "    #print(average_daily_sales)\n",
        "    doi=average_inventory / average_daily_sales if average_daily_sales > 0 else float(\"inf\")\n",
        "    return doi, cs, os"
      ]
    },
    {
      "cell_type": "code",
      "execution_count": 54,
      "metadata": {
        "colab": {
          "base_uri": "https://localhost:8080/"
        },
        "id": "miU4DJ7yhnMa",
        "outputId": "fa617240-aa80-43ab-d0d3-b243fc43b0d1"
      },
      "outputs": [
        {
          "name": "stdout",
          "output_type": "stream",
          "text": [
            "838\n",
            "(np.float64(7.459216965742251), np.int64(260), np.int64(35))\n"
          ]
        }
      ],
      "source": [
        "city = \"Nasik\"\n",
        "days = 31\n",
        "sku=\"K005\"\n",
        "print(get_doi_cs_os(stocktransfer, sku, city, days) )\n"
      ]
    },
    {
      "cell_type": "code",
      "execution_count": 52,
      "metadata": {
        "colab": {
          "base_uri": "https://localhost:8080/"
        },
        "id": "NvkEJTKZQWDv",
        "outputId": "b8fa8444-b821-4f70-8168-f64d8da26c7b"
      },
      "outputs": [
        {
          "name": "stdout",
          "output_type": "stream",
          "text": [
            "Question 10 Answer: The closing stock of K005 at the end of the month in Nasik is :  260\n"
          ]
        }
      ],
      "source": [
        "doi, cs,os = get_doi_cs_os(stocktransfer, sku, city, days)\n",
        "print(\"Question 10 Answer: The closing stock of K005 at the end of the month in Nasik is : \", cs)"
      ]
    }
  ],
  "metadata": {
    "colab": {
      "provenance": []
    },
    "kernelspec": {
      "display_name": "bdm",
      "language": "python",
      "name": "python3"
    },
    "language_info": {
      "codemirror_mode": {
        "name": "ipython",
        "version": 3
      },
      "file_extension": ".py",
      "mimetype": "text/x-python",
      "name": "python",
      "nbconvert_exporter": "python",
      "pygments_lexer": "ipython3",
      "version": "3.13.5"
    }
  },
  "nbformat": 4,
  "nbformat_minor": 0
}
